{
 "cells": [
  {
   "cell_type": "markdown",
   "id": "a2af4bc4",
   "metadata": {},
   "source": [
    "This is a notebook for a simple traditional IDMRG algorithm with block growth method. \n",
    "\n",
    "When writing the julia code shown here, I refer to the python code written by Dr. Garrison and Dr. Mishmash from the website:\n",
    "    \n",
    "    https://simple-dmrg.readthedocs.io/en/latest/\n",
    "    \n",
    "In the following code, I DO NOT use good quantum numbers in the system.\n",
    "    \n",
    "For IDMRG calculation, we make use of the translation invariance of the system.\n",
    "We gradually enlarge the system part and the environment part, until the physical quantity of every \"cell\" converge."
   ]
  },
  {
   "cell_type": "code",
   "execution_count": null,
   "id": "efdca798",
   "metadata": {},
   "outputs": [],
   "source": [
    "using LinearAlgebra\n",
    "using KrylovKit\n",
    "using SparseArrays\n",
    "Sz = sparse([0.5 0;0 -0.5])\n",
    "Sp = sparse([0 1; 0 0])\n",
    "Sm = sparse([0 0; 1 0])\n",
    "phy_d = 2\n",
    "struct block\n",
    "    len ::Int\n",
    "    basis_size ::Int\n",
    "    ops ::Vector{Any}\n",
    "end\n",
    "function is_valid_block(Block)\n",
    "    for op in Block.ops\n",
    "        @assert size(op) == (Block.basis_size,Block.basis_size)\n",
    "    end\n",
    "    return true\n",
    "end\n",
    "function two_sites_enlarge(Sz1,Sp1,Sm1,Sz2,Sp2,Sm2)\n",
    "    J = 1\n",
    "    Jz = 1\n",
    "    TwoSiteH = (J/2)*kron(Sp1,Sm2)+(J/2)*kron(Sm1,Sp2)+Jz*kron(Sz1,Sz2)\n",
    "    return TwoSiteH\n",
    "end\n",
    "initial_block = block(1,phy_d,[spzeros(phy_d,phy_d),Sz,Sp,Sm])\n",
    "function enlarge_block(b) #b is a block\n",
    "    mblock = b.basis_size\n",
    "    o = b.ops\n",
    "    H = kron(o[1],diagm(ones(phy_d)))+kron(diagm(ones(mblock)),zeros(phy_d,phy_d))\n",
    "    H = H + two_sites_enlarge(o[2],o[3],o[4],Sz,Sp,Sm)\n",
    "    conn_Sz = kron(sparse(I,mblock,mblock),Sz)\n",
    "    conn_Sp = kron(sparse(I,mblock,mblock),Sp)\n",
    "    conn_Sm = kron(sparse(I,mblock,mblock),Sm)\n",
    "    return block(b.len+1,b.basis_size*phy_d,[H,conn_Sz,conn_Sp,conn_Sm])\n",
    "end\n",
    "function ChangeBasis(operator,trans_mat)\n",
    "    op_new = trans_mat'*operator*trans_mat\n",
    "    return op_new\n",
    "end"
   ]
  },
  {
   "cell_type": "code",
   "execution_count": 1,
   "id": "9ce6d70c",
   "metadata": {},
   "outputs": [
    {
     "data": {
      "text/plain": [
       "20"
      ]
     },
     "execution_count": 1,
     "metadata": {},
     "output_type": "execute_result"
    }
   ],
   "source": [
    "function single_dmrg_step(sys,env,m) #m is the bond dimension cutoff\n",
    "    @assert is_valid_block(sys)\n",
    "    @assert is_valid_block(env)\n",
    "    sys_enl = enlarge_block(sys)\n",
    "    if sys == env\n",
    "        env_enl = sys_enl\n",
    "    else\n",
    "        env_enl = enlarge_block(env)\n",
    "    end\n",
    "    @assert is_valid_block(sys_enl)\n",
    "    @assert is_valid_block(env_enl)\n",
    "    \n",
    "    m_sys_enl = sys_enl.basis_size\n",
    "    m_env_enl = env_enl.basis_size\n",
    "    sys_enl_op = sys_enl.ops\n",
    "    env_enl_op = env_enl.ops\n",
    "    superblock_H = kron(sys_enl_op[1],sparse(I,m_env_enl,m_env_enl))+kron(sparse(I,m_sys_enl,m_sys_enl),env_enl_op[1])+two_sites_enlarge(sys_enl_op[2],sys_enl_op[3],sys_enl_op[4],env_enl_op[2],env_enl_op[3],env_enl_op[4])\n",
    "    vals,vecs,info = KrylovKit.eigsolve(superblock_H,1,:SR)\n",
    "    energy = vals[1]\n",
    "    psi0 = vecs[1]\n",
    "    psi0 = reshape(psi0,(m_sys_enl,m_env_enl))\n",
    "    psi0 = transpose(psi0)\n",
    "    rho = Hermitian(psi0*psi0')\n",
    "    sol = eigen(rho)\n",
    "    evector = [sol.vectors[:,i] for i = 1:length(sol.values)]\n",
    "    evalue = sol.values\n",
    "    eigen_result = [i for i in zip(evalue,evector)]\n",
    "    sort!(eigen_result,rev=true,by = x->x[1])\n",
    "    #print(eigen_result)\n",
    "    mm = min(m,length(eigen_result))\n",
    "    trans_mat = zeros(ComplexF64,m_sys_enl,mm)\n",
    "    for i = 1:mm\n",
    "        trans_mat[:,i] = eigen_result[i][2]\n",
    "    end\n",
    "    truncation_error = 1-sum([x[1] for x in eigen_result[1:mm]])\n",
    "    println(\"truncation error = $truncation_error\")\n",
    "    new_length = sys_enl.len\n",
    "    new_size = mm\n",
    "    new_H = ChangeBasis(sys_enl_op[1],trans_mat)\n",
    "    new_sz = ChangeBasis(sys_enl_op[2],trans_mat)\n",
    "    new_sp = ChangeBasis(sys_enl_op[3],trans_mat)\n",
    "    new_sm = ChangeBasis(sys_enl_op[4],trans_mat)\n",
    "    new_block = block(new_length,new_size,[new_H,new_sz,new_sp,new_sm])\n",
    "    return new_block,energy\n",
    "end\n",
    "function infinite_system(L,m)\n",
    "    b = initial_block\n",
    "    while 2*(b.len) <L\n",
    "        println(\"L = $(b.len*2+2)\")\n",
    "        b,energy = single_dmrg_step(b,b,m)\n",
    "        println(\"E/L = $(energy/b.len/2)\")\n",
    "    end\n",
    "end\n",
    "L = 100\n",
    "m = 20\n",
    "infinite_system(L,m)"
   ]
  },
  {
   "cell_type": "code",
   "execution_count": null,
   "id": "26d66039",
   "metadata": {},
   "outputs": [],
   "source": []
  }
 ],
 "metadata": {
  "kernelspec": {
   "display_name": "Julia 1.9.4",
   "language": "julia",
   "name": "julia-1.9"
  },
  "language_info": {
   "file_extension": ".jl",
   "mimetype": "application/julia",
   "name": "julia",
   "version": "1.9.4"
  }
 },
 "nbformat": 4,
 "nbformat_minor": 5
}
