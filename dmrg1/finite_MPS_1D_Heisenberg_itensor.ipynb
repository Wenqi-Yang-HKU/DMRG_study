{
 "cells": [
  {
   "cell_type": "markdown",
   "id": "b44ff844",
   "metadata": {},
   "source": [
    "This is a notebook for a simple DMRG algorithm: Modern MPS Version\n",
    "\n",
    "The code shown in this notebook is adapted from the software library:          ITensor https://github.com/ITensor\n",
    "and revised by Wenqi Yang\n",
    "\n",
    "We take 1D Heisenberg model as an example, and show how to make good use of ITensor lib to write DMRG code. We adopt MPO (matrix product operator) approach and optimize double sites every step."
   ]
  },
  {
   "cell_type": "markdown",
   "id": "777f5ed8",
   "metadata": {},
   "source": [
    "If we define sites in the following way:\n",
    "\n",
    "            sites = siteinds(\"S=1/2\",N)\n",
    "\n",
    "it means that we do not make use of the U(1) symmetry in this system. \n",
    "\n",
    "The computational efficiency will decrease."
   ]
  },
  {
   "cell_type": "markdown",
   "id": "228933d6",
   "metadata": {},
   "source": [
    "H is the many-body Hamiltonian in the MPO form.\n",
    "\n",
    "psi0 is the many-body wavefunction in the MPS form.\n",
    "\n",
    "Here, we set the initial MPS state as psi0, and do iteration to optimize the MPS state to make it get close to the ground state of the system."
   ]
  },
  {
   "cell_type": "code",
   "execution_count": 8,
   "id": "5113e5e1",
   "metadata": {},
   "outputs": [
    {
     "name": "stdout",
     "output_type": "stream",
     "text": [
      "After sweep 1 energy=-43.84934485227096\n",
      "After sweep 2 energy=-44.101781096345604\n",
      "After sweep 3 energy=-44.11289901698599\n",
      "After sweep 4 energy=-44.11508297063795\n"
     ]
    }
   ],
   "source": [
    "using ITensors\n",
    "using KrylovKit\n",
    "let\n",
    "    #define MPO and initial MPS state\n",
    "    N = 100 #length of the Heisenberg chain\n",
    "    sites = siteinds(\"S=1/2\",N;conserve_qns=true)    \n",
    "    os = OpSum()\n",
    "    for j in 1:(N-1)\n",
    "        os .+= 0.5,\"S+\",j,\"S-\",j+1\n",
    "        os .+= 0.5,\"S-\",j,\"S+\",j+1\n",
    "        os .+= \"Sz\",j,\"Sz\",j+1\n",
    "    end\n",
    "    H = MPO(os,sites)\n",
    "    state = [isodd(n) ? \"Up\" : \"Dn\" for n in 1:N]\n",
    "    psi0 = MPS(sites,state)\n",
    "    #set DMRG parameters\n",
    "    nsweep = 4\n",
    "    maxdim = 10 #bond dimension cut off\n",
    "    #do DMRG calculation\n",
    "    PH = ProjMPO(H) #ProjMPO is a type of ITensor\n",
    "    psi = copy(psi0)\n",
    "    N = length(psi)\n",
    "    if !isortho(psi) || orthoCenter(psi)!=1\n",
    "        psi=ITensors.orthogonalize!(PH,psi,1) # set the orthogonal center at the first site\n",
    "    end\n",
    "    PH = position!(PH,psi,1) #Effective Hamiltonian for the first-two sites\n",
    "    energy = 0.0\n",
    "    for sw in 1:nsweep\n",
    "        for (b,ha) in sweepnext(N)\n",
    "            PH = position!(PH,psi,b) #Effective Hamiltonian for the two sites connected by the bond we want to optimaize\n",
    "            phi = psi[b]*psi[b+1] # coarse-grain two sites of the MPS\n",
    "            vals,vecs = eigsolve(PH,phi,1,:SR;ishermitian=true,tol=1e-14,krylovdim=3,maxiter=1) #get the ground eigenvalue and the ground eigenstate of the coarsed site\n",
    "            energy = vals[1]\n",
    "            phi = vecs[1]\n",
    "            ortho = ha==1 ? \"left\" : \"right\" #judge the sweep direction\n",
    "            spec = replacebond!(\n",
    "            PH,psi,b,phi;maxdim=maxdim,ortho=ortho,normalize=true)\n",
    "            # replace the two optimized site of MPS by the eigenvector we get (after factorize the eigenvector)\n",
    "            # if the sweep dirction is \"right\" the factorize direction is \"left\" (get the left canonical tensor )\n",
    "            # so ortho is equal to \"left\"\n",
    "        end\n",
    "        println(\"After sweep $sw energy=$energy\")\n",
    "    end\n",
    "end     \n",
    "            "
   ]
  }
 ],
 "metadata": {
  "kernelspec": {
   "display_name": "Julia 1.9.4",
   "language": "julia",
   "name": "julia-1.9"
  },
  "language_info": {
   "file_extension": ".jl",
   "mimetype": "application/julia",
   "name": "julia",
   "version": "1.9.4"
  }
 },
 "nbformat": 4,
 "nbformat_minor": 5
}
